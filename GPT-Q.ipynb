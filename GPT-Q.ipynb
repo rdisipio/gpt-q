{
 "cells": [
  {
   "cell_type": "markdown",
   "id": "348405e7",
   "metadata": {},
   "source": [
    "# GPT-Q"
   ]
  },
  {
   "cell_type": "code",
   "execution_count": 42,
   "id": "067ea03c",
   "metadata": {},
   "outputs": [],
   "source": [
    "%load_ext autoreload\n",
    "%autoreload 2"
   ]
  },
  {
   "cell_type": "code",
   "execution_count": 48,
   "id": "d7c5771b",
   "metadata": {},
   "outputs": [
    {
     "name": "stdout",
     "output_type": "stream",
     "text": [
      " 0: ──RX(0)──RX(3.35)──╭C──────╭X──┤ ⟨Z⟩ \n",
      " 1: ──RX(0)──RX(1.86)──╰X──╭C──│───┤ ⟨Z⟩ \n",
      " 2: ──RX(0)──RX(1.5)───────╰X──╰C──┤ ⟨Z⟩ \n",
      "\n"
     ]
    }
   ],
   "source": [
    "from models import QConv1d\n",
    "\n",
    "qconv = QConv1d(kernel_size=3, n_qlayers=1, stride=1, padding=0)\n",
    "qconv.draw()"
   ]
  },
  {
   "cell_type": "code",
   "execution_count": null,
   "id": "a7a5beb5",
   "metadata": {},
   "outputs": [],
   "source": []
  }
 ],
 "metadata": {
  "kernelspec": {
   "display_name": "Python 3 (ipykernel)",
   "language": "python",
   "name": "python3"
  },
  "language_info": {
   "codemirror_mode": {
    "name": "ipython",
    "version": 3
   },
   "file_extension": ".py",
   "mimetype": "text/x-python",
   "name": "python",
   "nbconvert_exporter": "python",
   "pygments_lexer": "ipython3",
   "version": "3.8.9"
  }
 },
 "nbformat": 4,
 "nbformat_minor": 5
}
