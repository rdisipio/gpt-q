{
 "cells": [
  {
   "cell_type": "markdown",
   "id": "c870a6ec",
   "metadata": {},
   "source": [
    "# GPT-Q"
   ]
  },
  {
   "cell_type": "code",
   "execution_count": 1,
   "id": "0f8a9309",
   "metadata": {},
   "outputs": [],
   "source": [
    "%load_ext autoreload\n",
    "%autoreload 2"
   ]
  },
  {
   "cell_type": "code",
   "execution_count": 2,
   "id": "324f9f28",
   "metadata": {},
   "outputs": [],
   "source": [
    "import torch\n",
    "from pennylane import numpy as np\n",
    "\n",
    "torch.set_printoptions(precision=3)"
   ]
  },
  {
   "cell_type": "code",
   "execution_count": 3,
   "id": "35664602",
   "metadata": {},
   "outputs": [
    {
     "name": "stderr",
     "output_type": "stream",
     "text": [
      "/Users/disipio/development/gpt-q/venv/lib/python3.8/site-packages/setuptools/distutils_patch.py:25: UserWarning: Distutils was imported before Setuptools. This usage is discouraged and may exhibit undesirable behaviors or errors. Please use Setuptools' objects directly or at least import Setuptools first.\n",
      "  warnings.warn(\n"
     ]
    },
    {
     "name": "stdout",
     "output_type": "stream",
     "text": [
      " 0: ──RX(0)──RX(6.03)──╭C──────────────╭X──┤ ⟨Z⟩ \n",
      " 1: ──RX(0)──RX(4.63)──╰X──╭C──────────│───┤ ⟨Z⟩ \n",
      " 2: ──RX(0)──RX(1.41)──────╰X──╭C──────│───┤ ⟨Z⟩ \n",
      " 3: ──RX(0)──RX(6.24)──────────╰X──╭C──│───┤     \n",
      " 4: ──RX(0)──RX(5.24)──────────────╰X──╰C──┤     \n",
      "\n"
     ]
    }
   ],
   "source": [
    "from models import QConv1d\n",
    "\n",
    "ks = 5  # kind of arbitrary, limited by the number of available qubits\n",
    "p = (ks - 1) // 2\n",
    "\n",
    "qconv = QConv1d(kernel_size=ks, out_channels=3, n_qlayers=1, stride=1, padding=p)\n",
    "qconv.draw()"
   ]
  },
  {
   "cell_type": "code",
   "execution_count": 4,
   "id": "622958c3",
   "metadata": {},
   "outputs": [
    {
     "name": "stdout",
     "output_type": "stream",
     "text": [
      "torch.Size([1, 4, 8])\n",
      "tensor([[[0.858, 0.281, 0.187, 0.850, 0.989, 0.114, 0.510, 0.898],\n",
      "         [0.930, 0.130, 0.442, 0.974, 0.715, 0.628, 0.681, 0.798],\n",
      "         [0.167, 0.929, 0.918, 0.206, 0.613, 0.108, 0.178, 0.434],\n",
      "         [0.031, 0.094, 0.791, 0.370, 0.381, 0.366, 0.356, 0.232]]])\n"
     ]
    }
   ],
   "source": [
    "batch_size = 1\n",
    "seq_len = 4\n",
    "embed_dim = 8\n",
    "x = torch.rand((batch_size, seq_len, embed_dim))\n",
    "print(x.shape)\n",
    "print(x)"
   ]
  },
  {
   "cell_type": "code",
   "execution_count": 5,
   "id": "9bbe70b2",
   "metadata": {},
   "outputs": [
    {
     "name": "stdout",
     "output_type": "stream",
     "text": [
      "torch.Size([1, 4, 8, 3])\n"
     ]
    }
   ],
   "source": [
    "z = qconv(x)\n",
    "print(z.shape)"
   ]
  },
  {
   "cell_type": "code",
   "execution_count": 6,
   "id": "1717b98a",
   "metadata": {},
   "outputs": [
    {
     "data": {
      "text/plain": [
       "torch.Size([1, 4, 8])"
      ]
     },
     "execution_count": 6,
     "metadata": {},
     "output_type": "execute_result"
    }
   ],
   "source": [
    "z[:, :, :, 0].shape"
   ]
  },
  {
   "cell_type": "code",
   "execution_count": 7,
   "id": "b4efc403",
   "metadata": {},
   "outputs": [
    {
     "name": "stdout",
     "output_type": "stream",
     "text": [
      "torch.Size([1, 4, 24])\n"
     ]
    }
   ],
   "source": [
    "zc = z.view((1, 4, embed_dim*3))\n",
    "print(zc.shape)"
   ]
  },
  {
   "cell_type": "markdown",
   "id": "c31cefb0",
   "metadata": {},
   "source": [
    "1 + (c*w + 2*p - k) / s = w\n",
    "=> (c*w - k) / s = w - 1\n",
    "=> s = (c*w - k) / (w - 1)\n",
    "this has to be an integer.\n",
    "\n",
    "n = (c*w - k) / (w - 1) => n * (w - 1) = c*w - k => k = c*w - n * (w - 1)\n",
    "k = (3 - n) * w + n, 0 < k < 3*w"
   ]
  },
  {
   "cell_type": "code",
   "execution_count": 128,
   "id": "dd7ac554",
   "metadata": {},
   "outputs": [
    {
     "name": "stdout",
     "output_type": "stream",
     "text": [
      "32\n",
      "25\n",
      "18\n",
      "11\n",
      "4\n"
     ]
    }
   ],
   "source": [
    "def find_k(w, c):\n",
    "    for n in range(10):\n",
    "        # n = (b*w - k) / (d - 1) => n * (d - 1) = b*w - k => k = b*w - n*w + n\n",
    "        k = c*w - n * (w - 1)\n",
    "        if k < 0:\n",
    "            break\n",
    "        print(k)\n",
    "\n",
    "find_k(embed_dim, 4)"
   ]
  },
  {
   "cell_type": "code",
   "execution_count": 8,
   "id": "bc500c0d",
   "metadata": {},
   "outputs": [
    {
     "name": "stdout",
     "output_type": "stream",
     "text": [
      "kernel size (=no. of qubits): 3\n",
      "stride: 3\n",
      " 0: ──RX(0)──RX(3.78)──╭C──────╭X──┤ ⟨Z⟩ \n",
      " 1: ──RX(0)──RX(3.72)──╰X──╭C──│───┤     \n",
      " 2: ──RX(0)──RX(4.99)──────╰X──╰C──┤     \n",
      "\n"
     ]
    }
   ],
   "source": [
    "ks_inv = 3\n",
    "stride_inv = (3 * embed_dim - ks_inv) // (embed_dim - 1)\n",
    "print(f\"kernel size (=no. of qubits): {ks_inv}\")\n",
    "print(f\"stride: {stride_inv}\")\n",
    "qconv_inv = QConv1d(kernel_size=ks_inv, out_channels=1, n_qlayers=1, stride=stride_inv, padding=0)\n",
    "qconv_inv.draw()"
   ]
  },
  {
   "cell_type": "code",
   "execution_count": 112,
   "id": "62d71b7d",
   "metadata": {},
   "outputs": [
    {
     "name": "stdout",
     "output_type": "stream",
     "text": [
      "torch.Size([1, 4, 16])\n"
     ]
    }
   ],
   "source": [
    "y = qconv_inv(zc).view((batch_size, seq_len, -1))\n",
    "print(y.shape)"
   ]
  },
  {
   "cell_type": "code",
   "execution_count": 190,
   "id": "633ea8a3",
   "metadata": {},
   "outputs": [
    {
     "name": "stdout",
     "output_type": "stream",
     "text": [
      "tensor([[[[ 0,  1,  2],\n",
      "          [ 3,  4,  5],\n",
      "          [ 6,  7,  8],\n",
      "          [ 9, 10, 11]],\n",
      "\n",
      "         [[12, 13, 14],\n",
      "          [15, 16, 17],\n",
      "          [18, 19, 20],\n",
      "          [21, 22, 23]]]])\n"
     ]
    }
   ],
   "source": [
    "x = torch.arange(24).view(1, 2, 4, 3)\n",
    "print(x)"
   ]
  },
  {
   "cell_type": "code",
   "execution_count": 191,
   "id": "0da32923",
   "metadata": {},
   "outputs": [
    {
     "name": "stdout",
     "output_type": "stream",
     "text": [
      "tensor([[[[ 0,  3,  6,  9],\n",
      "          [ 1,  4,  7, 10],\n",
      "          [ 2,  5,  8, 11]],\n",
      "\n",
      "         [[12, 15, 18, 21],\n",
      "          [13, 16, 19, 22],\n",
      "          [14, 17, 20, 23]]]])\n",
      "tensor([[[ 0,  3,  6,  9,  1,  4,  7, 10,  2,  5,  8, 11],\n",
      "         [12, 15, 18, 21, 13, 16, 19, 22, 14, 17, 20, 23]]])\n"
     ]
    }
   ],
   "source": [
    "x = x.transpose(-1,-2).view(1,2,3,-1)\n",
    "print(x)\n",
    "x = x.reshape((1,2,12))\n",
    "print(x)\n"
   ]
  },
  {
   "cell_type": "code",
   "execution_count": 168,
   "id": "5fd1ce6e",
   "metadata": {},
   "outputs": [
    {
     "name": "stdout",
     "output_type": "stream",
     "text": [
      "tensor([[[ 0.442, -0.503,  0.480,  0.431, -0.795,  0.431,  0.586, -0.649,\n",
      "           0.641,  0.852, -0.828,  0.821,  0.506, -0.971,  0.555,  0.372,\n",
      "          -0.654,  0.404,  0.421, -0.611,  0.379,  0.507, -0.633,  0.561],\n",
      "         [ 0.540, -0.503,  0.497,  0.548, -0.806,  0.511,  0.384, -0.712,\n",
      "           0.398,  0.428, -0.592,  0.407,  0.542, -0.655,  0.460,  0.604,\n",
      "          -0.728,  0.635,  0.577, -0.861,  0.571,  0.567, -0.755,  0.711],\n",
      "         [ 0.408, -0.503,  0.346,  0.750, -0.630,  0.618,  0.773, -0.916,\n",
      "           0.789,  0.720, -0.903,  0.795,  0.853, -0.930,  0.903,  0.748,\n",
      "          -0.991,  0.957,  0.502, -0.980,  0.541,  0.510, -0.655,  0.637],\n",
      "         [ 0.455, -0.503,  0.457,  0.861, -0.772,  0.748,  0.948, -0.993,\n",
      "           0.989,  0.702, -0.987,  0.752,  0.481, -0.802,  0.522,  0.545,\n",
      "          -0.715,  0.535,  0.716, -0.746,  0.722,  0.548, -0.942,  0.655]]],\n",
      "       grad_fn=<ViewBackward>)\n"
     ]
    },
    {
     "data": {
      "text/plain": [
       "tensor([[[ 0.442,  0.540,  0.408,  0.455],\n",
       "         [-0.503, -0.503, -0.503, -0.503],\n",
       "         [ 0.480,  0.497,  0.346,  0.457],\n",
       "         [ 0.431,  0.548,  0.750,  0.861],\n",
       "         [-0.795, -0.806, -0.630, -0.772],\n",
       "         [ 0.431,  0.511,  0.618,  0.748],\n",
       "         [ 0.586,  0.384,  0.773,  0.948],\n",
       "         [-0.649, -0.712, -0.916, -0.993],\n",
       "         [ 0.641,  0.398,  0.789,  0.989],\n",
       "         [ 0.852,  0.428,  0.720,  0.702],\n",
       "         [-0.828, -0.592, -0.903, -0.987],\n",
       "         [ 0.821,  0.407,  0.795,  0.752],\n",
       "         [ 0.506,  0.542,  0.853,  0.481],\n",
       "         [-0.971, -0.655, -0.930, -0.802],\n",
       "         [ 0.555,  0.460,  0.903,  0.522],\n",
       "         [ 0.372,  0.604,  0.748,  0.545],\n",
       "         [-0.654, -0.728, -0.991, -0.715],\n",
       "         [ 0.404,  0.635,  0.957,  0.535],\n",
       "         [ 0.421,  0.577,  0.502,  0.716],\n",
       "         [-0.611, -0.861, -0.980, -0.746],\n",
       "         [ 0.379,  0.571,  0.541,  0.722],\n",
       "         [ 0.507,  0.567,  0.510,  0.548],\n",
       "         [-0.633, -0.755, -0.655, -0.942],\n",
       "         [ 0.561,  0.711,  0.637,  0.655]]], grad_fn=<TransposeBackward0>)"
      ]
     },
     "execution_count": 168,
     "metadata": {},
     "output_type": "execute_result"
    }
   ],
   "source": [
    "print(zc)\n",
    "zc.transpose(-1, -2)"
   ]
  },
  {
   "cell_type": "markdown",
   "id": "b819b77b",
   "metadata": {},
   "source": [
    "## FeedForward"
   ]
  },
  {
   "cell_type": "code",
   "execution_count": 238,
   "id": "4a16a754",
   "metadata": {},
   "outputs": [],
   "source": [
    "from models import FeedForward\n",
    "\n",
    "ff = FeedForward(embed_dim, boom_factor=4, n_qubits=n_qubits, n_qlayers=n_qlayers)"
   ]
  },
  {
   "cell_type": "code",
   "execution_count": 243,
   "id": "7b182954",
   "metadata": {},
   "outputs": [
    {
     "name": "stdout",
     "output_type": "stream",
     "text": [
      "input: torch.Size([1, 4, 8])\n",
      "output: torch.Size([1, 4, 8])\n"
     ]
    }
   ],
   "source": [
    "print(\"input:\", x.shape)\n",
    "xff = ff.forward(x)\n",
    "print(\"output:\", xff.shape)"
   ]
  },
  {
   "cell_type": "markdown",
   "id": "3535403e",
   "metadata": {},
   "source": [
    "## Attention"
   ]
  },
  {
   "cell_type": "code",
   "execution_count": 9,
   "id": "f242bb6c",
   "metadata": {},
   "outputs": [
    {
     "name": "stdout",
     "output_type": "stream",
     "text": [
      "torch.Size([1, 4, 8])\n",
      "tensor([[[0.964, 0.776, 0.797, 0.132, 0.005, 0.225, 0.763, 0.818],\n",
      "         [0.998, 0.020, 0.987, 0.329, 0.430, 0.608, 0.548, 0.698],\n",
      "         [0.829, 0.442, 0.601, 0.259, 0.688, 0.809, 0.910, 0.808],\n",
      "         [0.446, 0.084, 0.925, 0.620, 0.958, 0.173, 0.355, 0.116]]])\n"
     ]
    }
   ],
   "source": [
    "batch_size = 1\n",
    "seq_len = 4\n",
    "embed_dim = 8\n",
    "x = torch.rand((batch_size, seq_len, embed_dim))\n",
    "print(x.shape)\n",
    "print(x)"
   ]
  },
  {
   "cell_type": "code",
   "execution_count": 10,
   "id": "88b199fb",
   "metadata": {},
   "outputs": [],
   "source": [
    "from models import MultiHeadAttention\n",
    "\n",
    "n_heads = 2\n",
    "n_qubits = 5\n",
    "n_qlayers = 1\n",
    "n_heads = 4\n",
    "\n",
    "attn = MultiHeadAttention(embed_dim, n_heads, n_qubits, n_qlayers)"
   ]
  },
  {
   "cell_type": "code",
   "execution_count": 11,
   "id": "ec263ac6",
   "metadata": {},
   "outputs": [
    {
     "name": "stdout",
     "output_type": "stream",
     "text": [
      "output of attention: torch.Size([1, 4, 8])\n"
     ]
    }
   ],
   "source": [
    "out = attn(x)\n",
    "print(\"output of attention:\", out.shape)"
   ]
  },
  {
   "cell_type": "markdown",
   "id": "4c8c36ea",
   "metadata": {},
   "source": [
    "## Transformer block"
   ]
  },
  {
   "cell_type": "code",
   "execution_count": 12,
   "id": "41632043",
   "metadata": {},
   "outputs": [],
   "source": [
    "from models import TransformerBlock\n",
    "\n",
    "transformer = TransformerBlock(embed_dim, n_heads=n_heads, n_qubits=n_qubits, n_qlayers=n_qlayers)"
   ]
  },
  {
   "cell_type": "code",
   "execution_count": 13,
   "id": "e50e11a6",
   "metadata": {},
   "outputs": [
    {
     "name": "stdout",
     "output_type": "stream",
     "text": [
      "transformer block output: torch.Size([1, 4, 8])\n"
     ]
    }
   ],
   "source": [
    "x_tf = transformer.forward(x)\n",
    "print(\"transformer block output:\", x_tf.shape)"
   ]
  },
  {
   "cell_type": "markdown",
   "id": "c833898a",
   "metadata": {},
   "source": [
    "## GPT-Q Full Model"
   ]
  },
  {
   "cell_type": "code",
   "execution_count": 14,
   "id": "a218f697",
   "metadata": {},
   "outputs": [],
   "source": [
    "from models import GPTQ\n",
    "\n",
    "batch_size = 1\n",
    "max_seq_len = 16\n",
    "src_vocab = 8\n",
    "tgt_vocab = 4 \n",
    "n_layers = 2\n",
    "n_heads = 4\n",
    "\n",
    "gptq = GPTQ(embed_dim=embed_dim, src_vocab=src_vocab, tgt_vocab=tgt_vocab, n_heads=n_heads, n_layers=n_layers)"
   ]
  },
  {
   "cell_type": "code",
   "execution_count": 15,
   "id": "c93966d0",
   "metadata": {},
   "outputs": [
    {
     "name": "stdout",
     "output_type": "stream",
     "text": [
      "tensor([[5, 0, 6, 7, 6, 2, 4, 2, 6, 5, 2, 4, 7, 7, 5, 1]])\n"
     ]
    }
   ],
   "source": [
    "token_ids = np.random.choice(src_vocab, (batch_size, max_seq_len))\n",
    "token_ids = torch.tensor(token_ids)\n",
    "print(token_ids)"
   ]
  },
  {
   "cell_type": "code",
   "execution_count": 16,
   "id": "3ae30c2e",
   "metadata": {},
   "outputs": [
    {
     "name": "stdout",
     "output_type": "stream",
     "text": [
      "GPT-Q output: torch.Size([1, 4])\n"
     ]
    }
   ],
   "source": [
    "out = gptq(token_ids)\n",
    "print(\"GPT-Q output:\", out.shape)"
   ]
  },
  {
   "cell_type": "markdown",
   "id": "f377301e",
   "metadata": {},
   "source": [
    "## Masks"
   ]
  },
  {
   "cell_type": "code",
   "execution_count": 17,
   "id": "8dcbf381",
   "metadata": {},
   "outputs": [],
   "source": [
    "import matplotlib.pyplot as plt\n",
    "%matplotlib inline\n",
    "\n",
    "from utils import make_padding_mask, make_subsequent_mask, make_lookahead_mask"
   ]
  },
  {
   "cell_type": "code",
   "execution_count": 18,
   "id": "a1d1abea",
   "metadata": {},
   "outputs": [
    {
     "name": "stdout",
     "output_type": "stream",
     "text": [
      "tensor([[2, 5, 5, 3, 6, 6, 6, 1, 2, 0, 6, 4, 3, 0, 4, 7]])\n"
     ]
    }
   ],
   "source": [
    "token_ids = np.random.choice(src_vocab, (batch_size, max_seq_len))\n",
    "token_ids = torch.tensor(token_ids)\n",
    "print(token_ids)"
   ]
  },
  {
   "cell_type": "code",
   "execution_count": 19,
   "id": "ae24c391",
   "metadata": {},
   "outputs": [
    {
     "data": {
      "text/plain": [
       "tensor([[[ True,  True,  True,  True,  True,  True,  True,  True,  True, False,\n",
       "           True,  True,  True, False,  True,  True]]])"
      ]
     },
     "execution_count": 19,
     "metadata": {},
     "output_type": "execute_result"
    }
   ],
   "source": [
    "make_padding_mask(token_ids)"
   ]
  },
  {
   "cell_type": "code",
   "execution_count": 20,
   "id": "38650604",
   "metadata": {},
   "outputs": [
    {
     "data": {
      "text/plain": [
       "<matplotlib.image.AxesImage at 0x14071e970>"
      ]
     },
     "execution_count": 20,
     "metadata": {},
     "output_type": "execute_result"
    },
    {
     "data": {
      "image/png": "[encoded data removed]",
      "text/plain": [
       "<Figure size 360x360 with 1 Axes>"
      ]
     },
     "metadata": {
      "needs_background": "light"
     },
     "output_type": "display_data"
    }
   ],
   "source": [
    "plt.figure(figsize=(5,5))\n",
    "plt.imshow(make_subsequent_mask(max_seq_len)[0])"
   ]
  },
  {
   "cell_type": "code",
   "execution_count": 21,
   "id": "cd7fff1f",
   "metadata": {},
   "outputs": [
    {
     "data": {
      "text/plain": [
       "tensor([[[ True, False, False, False, False, False, False, False, False, False,\n",
       "          False, False, False, False, False, False],\n",
       "         [ True,  True, False, False, False, False, False, False, False, False,\n",
       "          False, False, False, False, False, False],\n",
       "         [ True,  True,  True, False, False, False, False, False, False, False,\n",
       "          False, False, False, False, False, False],\n",
       "         [ True,  True,  True,  True, False, False, False, False, False, False,\n",
       "          False, False, False, False, False, False],\n",
       "         [ True,  True,  True,  True,  True, False, False, False, False, False,\n",
       "          False, False, False, False, False, False],\n",
       "         [ True,  True,  True,  True,  True,  True, False, False, False, False,\n",
       "          False, False, False, False, False, False],\n",
       "         [ True,  True,  True,  True,  True,  True,  True, False, False, False,\n",
       "          False, False, False, False, False, False],\n",
       "         [ True,  True,  True,  True,  True,  True,  True,  True, False, False,\n",
       "          False, False, False, False, False, False],\n",
       "         [ True,  True,  True,  True,  True,  True,  True,  True,  True, False,\n",
       "          False, False, False, False, False, False],\n",
       "         [ True,  True,  True,  True,  True,  True,  True,  True,  True, False,\n",
       "          False, False, False, False, False, False],\n",
       "         [ True,  True,  True,  True,  True,  True,  True,  True,  True, False,\n",
       "           True, False, False, False, False, False],\n",
       "         [ True,  True,  True,  True,  True,  True,  True,  True,  True, False,\n",
       "           True,  True, False, False, False, False],\n",
       "         [ True,  True,  True,  True,  True,  True,  True,  True,  True, False,\n",
       "           True,  True,  True, False, False, False],\n",
       "         [ True,  True,  True,  True,  True,  True,  True,  True,  True, False,\n",
       "           True,  True,  True, False, False, False],\n",
       "         [ True,  True,  True,  True,  True,  True,  True,  True,  True, False,\n",
       "           True,  True,  True, False,  True, False],\n",
       "         [ True,  True,  True,  True,  True,  True,  True,  True,  True, False,\n",
       "           True,  True,  True, False,  True,  True]]])"
      ]
     },
     "execution_count": 21,
     "metadata": {},
     "output_type": "execute_result"
    }
   ],
   "source": [
    "make_lookahead_mask(token_ids)"
   ]
  },
  {
   "cell_type": "markdown",
   "id": "e7d00099",
   "metadata": {},
   "source": [
    "## Train Classifier"
   ]
  },
  {
   "cell_type": "code",
   "execution_count": 22,
   "id": "054839e5",
   "metadata": {},
   "outputs": [],
   "source": [
    "from torchtext.datasets import IMDB"
   ]
  },
  {
   "cell_type": "code",
   "execution_count": 23,
   "id": "5b7fd779",
   "metadata": {},
   "outputs": [],
   "source": [
    "train_iter, test_iter = IMDB(split=('train', 'test'))"
   ]
  },
  {
   "cell_type": "code",
   "execution_count": 25,
   "id": "3a7d5265",
   "metadata": {},
   "outputs": [
    {
     "data": {
      "text/plain": [
       "(25000, 25000)"
      ]
     },
     "execution_count": 25,
     "metadata": {},
     "output_type": "execute_result"
    }
   ],
   "source": [
    "len(train_iter), len(test_iter)"
   ]
  },
  {
   "cell_type": "code",
   "execution_count": 26,
   "id": "84da71ff",
   "metadata": {},
   "outputs": [
    {
     "name": "stdout",
     "output_type": "stream",
     "text": [
      "['I rented I AM CURIOUS-YELLOW from my video store because of all the controversy that surrounded it when it was first released in 1967. I also heard that at first it was seized by U.S. customs if it ever tried to enter this country, therefore being a fan of films considered \"controversial\" I really had to see this for myself.<br /><br />The plot is centered around a young Swedish drama student named Lena who wants to learn everything she can about life. In particular she wants to focus her attentions to making some sort of documentary on what the average Swede thought about certain political issues such as the Vietnam War and race issues in the United States. In between asking politicians and ordinary denizens of Stockholm about their opinions on politics, she has sex with her drama teacher, classmates, and married men.<br /><br />What kills me about I AM CURIOUS-YELLOW is that 40 years ago, this was considered pornographic. Really, the sex and nudity scenes are few and far between, even then it\\'s not shot like some cheaply made porno. While my countrymen mind find it shocking, in reality sex and nudity are a major staple in Swedish cinema. Even Ingmar Bergman, arguably their answer to good old boy John Ford, had sex scenes in his films.<br /><br />I do commend the filmmakers for the fact that any sex shown in the film is shown for artistic purposes rather than just to shock people and make money to be shown in pornographic theaters in America. I AM CURIOUS-YELLOW is a good film for anyone wanting to study the meat and potatoes (no pun intended) of Swedish cinema. But really, this film doesn\\'t have much of a plot.', '\"I Am Curious: Yellow\" is a risible and pretentious steaming pile. It doesn\\'t matter what one\\'s political views are because this film can hardly be taken seriously on any level. As for the claim that frontal male nudity is an automatic NC-17, that isn\\'t true. I\\'ve seen R-rated films with male nudity. Granted, they only offer some fleeting views, but where are the R-rated films with gaping vulvas and flapping labia? Nowhere, because they don\\'t exist. The same goes for those crappy cable shows: schlongs swinging in the breeze but not a clitoris in sight. And those pretentious indie movies like The Brown Bunny, in which we\\'re treated to the site of Vincent Gallo\\'s throbbing johnson, but not a trace of pink visible on Chloe Sevigny. Before crying (or implying) \"double-standard\" in matters of nudity, the mentally obtuse should take into account one unavoidably obvious anatomical difference between men and women: there are no genitals on display when actresses appears nude, and the same cannot be said for a man. In fact, you generally won\\'t see female genitals in an American film in anything short of porn or explicit erotica. This alleged double-standard is less a double standard than an admittedly depressing ability to come to terms culturally with the insides of women\\'s bodies.', \"If only to avoid making this type of film in the future. This film is interesting as an experiment but tells no cogent story.<br /><br />One might feel virtuous for sitting thru it because it touches on so many IMPORTANT issues but it does so without any discernable motive. The viewer comes away with no new perspectives (unless one comes up with one while one's mind wanders, as it will invariably do during this pointless film).<br /><br />One might better spend one's time staring out a window at a tree growing.<br /><br />\"]\n"
     ]
    }
   ],
   "source": [
    "train_data = []\n",
    "for label, line in train_iter:\n",
    "    train_data.append(line)\n",
    "print(train_data[:3])"
   ]
  },
  {
   "cell_type": "code",
   "execution_count": 27,
   "id": "50969d22",
   "metadata": {},
   "outputs": [
    {
     "name": "stdout",
     "output_type": "stream",
     "text": [
      "\n",
      "\n",
      "\n"
     ]
    }
   ],
   "source": [
    "from tokenizers import Tokenizer, models, normalizers, pre_tokenizers, decoders, trainers\n",
    "\n",
    "vocab_size = 300\n",
    "min_frequency = 2\n",
    "special_tokens = [\n",
    "        \"<s>\",\n",
    "        \"<pad>\",\n",
    "        \"</s>\",\n",
    "        \"<unk>\",\n",
    "        \"<mask>\",\n",
    "    ]\n",
    "\n",
    "tokenizer = Tokenizer(models.BPE())\n",
    "tokenizer.normalizer = normalizers.NFKC()\n",
    "tokenizer.pre_tokenizer = pre_tokenizers.ByteLevel()\n",
    "tokenizer.decoders = decoders.ByteLevel()\n",
    "\n",
    "trainer = trainers.BpeTrainer(\n",
    "    vocab_size=vocab_size,\n",
    "    initial_alphabet=pre_tokenizers.ByteLevel.alphabet(),\n",
    "    min_frequency=min_frequency,\n",
    "    special_tokens=special_tokens)\n",
    "\n",
    "tokenizer.train_from_iterator(train_data, trainer=trainer)\n",
    "tokenizer.save(\"gptq.json\")"
   ]
  },
  {
   "cell_type": "code",
   "execution_count": 28,
   "id": "eb6a427d",
   "metadata": {},
   "outputs": [
    {
     "data": {
      "text/plain": [
       "[225, 44, 73, 287, 83, 268, 282, 80, 72]"
      ]
     },
     "execution_count": 28,
     "metadata": {},
     "output_type": "execute_result"
    }
   ],
   "source": [
    "tokenizer.encode(\"Hello world\").ids"
   ]
  },
  {
   "cell_type": "markdown",
   "id": "3f8e5337",
   "metadata": {},
   "source": [
    "## Fit Model"
   ]
  },
  {
   "cell_type": "code",
   "execution_count": 29,
   "id": "51c02846",
   "metadata": {},
   "outputs": [],
   "source": [
    "from models import GPTQ, IMDbClassifier\n",
    "\n",
    "max_seq_len = 128\n",
    "src_vocab = vocab_size\n",
    "n_classes = 2\n",
    "n_layers = 1\n",
    "n_heads = 2\n",
    "\n",
    "gptq = GPTQ(embed_dim=embed_dim, src_vocab=src_vocab, tgt_vocab=n_classes, n_heads=n_heads, n_layers=n_layers)\n",
    "model = IMDbClassifier(gptq)"
   ]
  },
  {
   "cell_type": "code",
   "execution_count": 30,
   "id": "06f9c784",
   "metadata": {},
   "outputs": [],
   "source": [
    "from dataset import IMDbDataModule\n",
    "\n",
    "BATCH_SIZE = 32\n",
    "\n",
    "dm = IMDbDataModule(val_split=0.2, batch_size=BATCH_SIZE, max_seq_length=max_seq_len)"
   ]
  },
  {
   "cell_type": "code",
   "execution_count": null,
   "id": "18211e82",
   "metadata": {},
   "outputs": [
    {
     "name": "stderr",
     "output_type": "stream",
     "text": [
      "INFO:pytorch_lightning.utilities.distributed:GPU available: False, used: False\n",
      "INFO:pytorch_lightning.utilities.distributed:TPU available: False, using: 0 TPU cores\n",
      "INFO:pytorch_lightning.utilities.distributed:IPU available: False, using: 0 IPUs\n"
     ]
    }
   ],
   "source": [
    "from pytorch_lightning import Trainer\n",
    "\n",
    "AVAIL_GPUS = min(1, torch.cuda.device_count())\n",
    "\n",
    "trainer = Trainer(\n",
    "    max_epochs=2,\n",
    "    gpus=AVAIL_GPUS,\n",
    "    progress_bar_refresh_rate=20)\n",
    "trainer.fit(model, dm)"
   ]
  },
  {
   "cell_type": "code",
   "execution_count": null,
   "id": "b93339cd",
   "metadata": {},
   "outputs": [],
   "source": [
    "torch.save(model.state_dict(), \"imdb_classifier.pt\")"
   ]
  }
 ],
 "metadata": {
  "kernelspec": {
   "display_name": "Python 3 (ipykernel)",
   "language": "python",
   "name": "python3"
  },
  "language_info": {
   "codemirror_mode": {
    "name": "ipython",
    "version": 3
   },
   "file_extension": ".py",
   "mimetype": "text/x-python",
   "name": "python",
   "nbconvert_exporter": "python",
   "pygments_lexer": "ipython3",
   "version": "3.8.9"
  }
 },
 "nbformat": 4,
 "nbformat_minor": 5
}
