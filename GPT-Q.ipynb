{
 "cells": [
  {
   "cell_type": "markdown",
   "id": "efaf3952",
   "metadata": {},
   "source": [
    "# GPT-Q"
   ]
  },
  {
   "cell_type": "code",
   "execution_count": 42,
   "id": "ebccb610",
   "metadata": {},
   "outputs": [],
   "source": [
    "%load_ext autoreload\n",
    "%autoreload 2"
   ]
  },
  {
   "cell_type": "code",
   "execution_count": 71,
   "id": "6d4bc062",
   "metadata": {},
   "outputs": [],
   "source": [
    "import torch\n",
    "\n",
    "torch.set_printoptions(precision=2, linewidth=120)"
   ]
  },
  {
   "cell_type": "code",
   "execution_count": 72,
   "id": "c293df52",
   "metadata": {},
   "outputs": [
    {
     "name": "stdout",
     "output_type": "stream",
     "text": [
      " 0: ──RX(0)──RX(3.19)───╭C──────────╭X──┤ ⟨Z⟩ \n",
      " 1: ──RX(0)──RX(0.895)──╰X──╭C──────│───┤ ⟨Z⟩ \n",
      " 2: ──RX(0)──RX(4.28)───────╰X──╭C──│───┤ ⟨Z⟩ \n",
      " 3: ──RX(0)──RX(0.731)──────────╰X──╰C──┤     \n",
      "\n"
     ]
    }
   ],
   "source": [
    "from models import QConv1d\n",
    "\n",
    "qconv = QConv1d(kernel_size=4, n_qlayers=1, stride=1, padding=0)\n",
    "qconv.draw()"
   ]
  },
  {
   "cell_type": "code",
   "execution_count": 73,
   "id": "0ad4db5d",
   "metadata": {},
   "outputs": [
    {
     "name": "stdout",
     "output_type": "stream",
     "text": [
      "tensor([[[4.25e-01, 6.22e-01, 6.19e-01, 4.61e-01, 2.89e-01, 3.83e-01, 3.02e-01, 6.50e-01, 9.46e-01, 9.81e-01, 5.54e-01,\n",
      "          5.59e-01, 8.83e-02, 8.42e-02, 5.62e-01, 9.96e-01],\n",
      "         [4.17e-02, 4.34e-01, 6.82e-01, 7.86e-01, 7.38e-01, 3.99e-01, 4.16e-01, 5.72e-01, 7.68e-01, 1.73e-01, 4.72e-02,\n",
      "          8.93e-02, 5.55e-01, 2.34e-01, 5.42e-01, 1.30e-01],\n",
      "         [4.25e-01, 3.91e-01, 7.19e-01, 7.76e-01, 8.11e-02, 9.71e-01, 1.58e-01, 2.43e-01, 4.05e-01, 5.05e-01, 6.12e-01,\n",
      "          6.50e-01, 6.77e-01, 4.71e-01, 2.77e-04, 6.99e-01],\n",
      "         [5.67e-03, 9.71e-01, 9.43e-01, 9.39e-01, 4.94e-01, 8.04e-01, 8.73e-01, 6.70e-01, 8.42e-02, 9.58e-01, 3.52e-01,\n",
      "          3.25e-01, 7.37e-01, 8.78e-01, 4.45e-01, 7.32e-01]]])\n"
     ]
    }
   ],
   "source": [
    "x = torch.rand((1, 4, 16))\n",
    "print(x)"
   ]
  },
  {
   "cell_type": "code",
   "execution_count": 67,
   "id": "9b179633",
   "metadata": {},
   "outputs": [
    {
     "name": "stdout",
     "output_type": "stream",
     "text": [
      "torch.Size([1, 4, 13]) torch.Size([1, 4, 13]) torch.Size([1, 4, 13])\n"
     ]
    }
   ],
   "source": [
    "q, k, v = qconv(x)\n",
    "print(q.shape, k.shape, v.shape)"
   ]
  },
  {
   "cell_type": "code",
   "execution_count": null,
   "id": "372421ac",
   "metadata": {},
   "outputs": [],
   "source": []
  }
 ],
 "metadata": {
  "kernelspec": {
   "display_name": "Python 3 (ipykernel)",
   "language": "python",
   "name": "python3"
  },
  "language_info": {
   "codemirror_mode": {
    "name": "ipython",
    "version": 3
   },
   "file_extension": ".py",
   "mimetype": "text/x-python",
   "name": "python",
   "nbconvert_exporter": "python",
   "pygments_lexer": "ipython3",
   "version": "3.8.9"
  }
 },
 "nbformat": 4,
 "nbformat_minor": 5
}
