{
 "cells": [
  {
   "cell_type": "code",
   "execution_count": 28,
   "id": "aaa158ff",
   "metadata": {},
   "outputs": [
    {
     "name": "stdout",
     "output_type": "stream",
     "text": [
      "weights\n",
      " [[1.25458737 3.23103027]]\n",
      "inputs: [3.72225051 0.29185655]\n"
     ]
    },
    {
     "data": {
      "text/plain": [
       "tensor([ 0.26137737, -0.24260625], requires_grad=True)"
      ]
     },
     "execution_count": 28,
     "metadata": {},
     "output_type": "execute_result"
    }
   ],
   "source": [
    "import pennylane as qml\n",
    "import numpy as np\n",
    "from pennylane.templates.layers import RandomLayers\n",
    "\n",
    "dev = qml.device(\"default.qubit\", wires=2)\n",
    "n_qlayers = 1\n",
    "n_qubits = 2\n",
    "#weights = [[0.1, -2.1, 1.4]]\n",
    "weights = np.random.uniform(high= 2 * np.pi, size=(n_qlayers, n_qubits))\n",
    "print(\"weights\\n\", weights)\n",
    "\n",
    "@qml.qnode(dev)\n",
    "def circuit(inputs, weights):\n",
    "    qml.templates.AngleEmbedding(inputs, wires=range(n_qubits))\n",
    "    qml.templates.BasicEntanglerLayers(weights, wires=range(n_qubits))\n",
    "    return [qml.expval(qml.PauliZ(j)) for j in range(n_qubits)]\n",
    "\n",
    "inputs = np.random.uniform(high= 2 * np.pi, size=n_qubits)\n",
    "print(\"inputs:\", inputs)\n",
    "circuit(inputs, weights)"
   ]
  },
  {
   "cell_type": "code",
   "execution_count": 36,
   "id": "642be447",
   "metadata": {},
   "outputs": [
    {
     "name": "stdout",
     "output_type": "stream",
     "text": [
      "tensor([[[0.3440, 0.0489, 0.2900, 0.0155, 0.8346, 0.6920],\n",
      "         [0.3543, 0.7785, 0.8638, 0.4819, 0.1136, 0.1644]]])\n"
     ]
    },
    {
     "data": {
      "text/plain": [
       "(tensor([[[0.3440, 0.0489],\n",
       "          [0.3543, 0.7785]]]),\n",
       " tensor([[[0.2900, 0.0155],\n",
       "          [0.8638, 0.4819]]]),\n",
       " tensor([[[0.8346, 0.6920],\n",
       "          [0.1136, 0.1644]]]))"
      ]
     },
     "execution_count": 36,
     "metadata": {},
     "output_type": "execute_result"
    }
   ],
   "source": [
    "import torch\n",
    "x = torch.rand((1, 2, 6))\n",
    "print(x)\n",
    "x.split(2, dim=-1)"
   ]
  },
  {
   "cell_type": "code",
   "execution_count": null,
   "id": "4d08c809",
   "metadata": {},
   "outputs": [],
   "source": []
  }
 ],
 "metadata": {
  "kernelspec": {
   "display_name": "Python 3 (ipykernel)",
   "language": "python",
   "name": "python3"
  },
  "language_info": {
   "codemirror_mode": {
    "name": "ipython",
    "version": 3
   },
   "file_extension": ".py",
   "mimetype": "text/x-python",
   "name": "python",
   "nbconvert_exporter": "python",
   "pygments_lexer": "ipython3",
   "version": "3.8.9"
  }
 },
 "nbformat": 4,
 "nbformat_minor": 5
}
