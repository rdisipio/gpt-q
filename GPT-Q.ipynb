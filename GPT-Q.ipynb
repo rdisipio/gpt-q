{
 "cells": [
  {
   "cell_type": "markdown",
   "id": "32e43245",
   "metadata": {},
   "source": [
    "# GPT-Q"
   ]
  },
  {
   "cell_type": "code",
   "execution_count": 42,
   "id": "58b5979f",
   "metadata": {},
   "outputs": [],
   "source": [
    "%load_ext autoreload\n",
    "%autoreload 2"
   ]
  },
  {
   "cell_type": "code",
   "execution_count": 55,
   "id": "a90eedb4",
   "metadata": {},
   "outputs": [
    {
     "name": "stdout",
     "output_type": "stream",
     "text": [
      " 0: ──RX(0)──RX(2.77)───╭C──────────╭X──┤ ⟨Z⟩ \n",
      " 1: ──RX(0)──RX(0.629)──╰X──╭C──────│───┤ ⟨Z⟩ \n",
      " 2: ──RX(0)──RX(0.807)──────╰X──╭C──│───┤ ⟨Z⟩ \n",
      " 3: ──RX(0)──RX(1.92)───────────╰X──╰C──┤     \n",
      "\n"
     ]
    }
   ],
   "source": [
    "from models import QConv1d\n",
    "\n",
    "qconv = QConv1d(kernel_size=4, n_qlayers=1, stride=1, padding=0)\n",
    "qconv.draw()"
   ]
  },
  {
   "cell_type": "code",
   "execution_count": 53,
   "id": "83dc28c7",
   "metadata": {},
   "outputs": [
    {
     "name": "stdout",
     "output_type": "stream",
     "text": [
      "tensor([[[0.7257, 0.4841, 0.5172, 0.1139, 0.9820, 0.0564, 0.3670, 0.4214,\n",
      "          0.9972, 0.6655, 0.8875, 0.7700, 0.9388, 0.3565, 0.7473, 0.2350],\n",
      "         [0.3944, 0.3906, 0.0202, 0.3409, 0.4242, 0.4824, 0.1089, 0.4448,\n",
      "          0.2010, 0.1238, 0.1477, 0.4085, 0.0557, 0.4568, 0.5388, 0.6858],\n",
      "         [0.2401, 0.2396, 0.8803, 0.5449, 0.6979, 0.9659, 0.4344, 0.7917,\n",
      "          0.7503, 0.9330, 0.3240, 0.5315, 0.3288, 0.7640, 0.9849, 0.3753],\n",
      "         [0.5086, 0.1843, 0.7722, 0.1586, 0.2556, 0.1014, 0.5063, 0.8349,\n",
      "          0.3988, 0.5147, 0.7203, 0.9597, 0.7242, 0.5345, 0.0324, 0.6867]]])\n"
     ]
    }
   ],
   "source": [
    "x = torch.rand((1, 4, 16))\n",
    "print(x)"
   ]
  },
  {
   "cell_type": "code",
   "execution_count": 59,
   "id": "5335ce7f",
   "metadata": {},
   "outputs": [
    {
     "name": "stdout",
     "output_type": "stream",
     "text": [
      "torch.Size([1, 4, 13]) torch.Size([1, 4, 13]) torch.Size([1, 4, 13])\n"
     ]
    }
   ],
   "source": [
    "q, k, v = qconv(x)\n",
    "print(q.shape, k.shape, v.shape)"
   ]
  },
  {
   "cell_type": "code",
   "execution_count": null,
   "id": "efc30e18",
   "metadata": {},
   "outputs": [],
   "source": []
  }
 ],
 "metadata": {
  "kernelspec": {
   "display_name": "Python 3 (ipykernel)",
   "language": "python",
   "name": "python3"
  },
  "language_info": {
   "codemirror_mode": {
    "name": "ipython",
    "version": 3
   },
   "file_extension": ".py",
   "mimetype": "text/x-python",
   "name": "python",
   "nbconvert_exporter": "python",
   "pygments_lexer": "ipython3",
   "version": "3.8.9"
  }
 },
 "nbformat": 4,
 "nbformat_minor": 5
}
