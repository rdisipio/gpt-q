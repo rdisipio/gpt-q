{
 "cells": [
  {
   "cell_type": "markdown",
   "id": "b93282bd-f492-4552-9d67-73e01a8f01e4",
   "metadata": {},
   "source": [
    "# Sentence embeddings"
   ]
  },
  {
   "cell_type": "code",
   "execution_count": 1,
   "id": "46e08587-2ad9-4f6f-bf9a-c19c2a9c3597",
   "metadata": {},
   "outputs": [],
   "source": [
    "%load_ext autoreload\n",
    "%autoreload 2"
   ]
  },
  {
   "cell_type": "code",
   "execution_count": 2,
   "id": "52b292b6-fae1-4f15-8d8b-54ebff8b6b71",
   "metadata": {},
   "outputs": [],
   "source": [
    "import csv\n",
    "import math\n",
    "import os\n",
    "import gzip\n",
    "from datetime import datetime\n",
    "from pathlib import Path"
   ]
  },
  {
   "cell_type": "code",
   "execution_count": 3,
   "id": "ddbdcc68-24ff-4a5e-b024-5bd48fa325a8",
   "metadata": {},
   "outputs": [
    {
     "name": "stderr",
     "output_type": "stream",
     "text": [
      "/home/ec2-user/.pyenv/versions/3.9.7/lib/python3.9/site-packages/tqdm/auto.py:21: TqdmWarning: IProgress not found. Please update jupyter and ipywidgets. See https://ipywidgets.readthedocs.io/en/stable/user_install.html\n",
      "  from .autonotebook import tqdm as notebook_tqdm\n"
     ]
    }
   ],
   "source": [
    "import numpy as np\n",
    "\n",
    "import torch\n",
    "from torch.utils.data import DataLoader\n",
    "from sentence_transformers import SentenceTransformer, models, losses, util, InputExample, LoggingHandler\n",
    "from sentence_transformers.evaluation import EmbeddingSimilarityEvaluator\n",
    "from tokenizers import ByteLevelBPETokenizer, BertWordPieceTokenizer, SentencePieceBPETokenizer, CharBPETokenizer"
   ]
  },
  {
   "cell_type": "code",
   "execution_count": 4,
   "id": "94fc2b39-b653-4e56-9f42-76053c5b2551",
   "metadata": {},
   "outputs": [],
   "source": [
    "embed_dim = 8\n",
    "vocab_size = 512\n",
    "output_features = 8\n",
    "n_heads = 4\n",
    "dropout_rate = 0.1\n",
    "n_tlayers = 1\n",
    "max_seq_len = 16\n",
    "n_qlayers = 1\n",
    "n_qubits = 5 # must be odd and > 3 (ie query, key, value)\n",
    "q_device = \"lightning.qubit\" # lightning.gpu, braket.aws.qubit, default.qubit\n",
    "#q_device = \"qulacs.simulator\"\n",
    "#q_device = \"braket.aws.qubit\"\n",
    "#q_device = \"rigetti.qvm\"\n",
    "lr = 1e-3"
   ]
  },
  {
   "cell_type": "code",
   "execution_count": 5,
   "id": "ab2deb81-0a33-40f7-b3c8-8771dde68a74",
   "metadata": {},
   "outputs": [],
   "source": [
    "model_name = 'gptq'\n",
    "train_batch_size = 16\n",
    "num_epochs = 2\n",
    "model_save_path = 'output/training_stsbenchmark_continue_training-'+model_name+'-'+datetime.now().strftime(\"%Y-%m-%d_%H-%M-%S\")"
   ]
  },
  {
   "cell_type": "code",
   "execution_count": 6,
   "id": "abe83d36-d42f-4c49-8754-049dcd6af1b3",
   "metadata": {},
   "outputs": [],
   "source": [
    "special_tokens = [\n",
    "        \"<s>\",\n",
    "        \"<pad>\",\n",
    "        \"</s>\",\n",
    "        \"<unk>\",\n",
    "        \"<mask>\",\n",
    "    ]"
   ]
  },
  {
   "cell_type": "code",
   "execution_count": 7,
   "id": "d0f58a2e-a18c-4086-9371-36b4fa57ac75",
   "metadata": {},
   "outputs": [],
   "source": [
    "train_samples = []\n",
    "dev_samples = []\n",
    "test_samples = []\n",
    "sts_dataset_path = 'datasets/stsbenchmark.tsv.gz'\n",
    "with gzip.open(sts_dataset_path, 'rt', encoding='utf8') as fIn:\n",
    "    reader = csv.DictReader(fIn, delimiter='\\t', quoting=csv.QUOTE_NONE)\n",
    "    for row in reader:\n",
    "        score = float(row['score']) / 5.0  # Normalize score to range 0 ... 1\n",
    "        inp_example = InputExample(texts=[row['sentence1'], row['sentence2']], label=score)\n",
    "\n",
    "        if row['split'] == 'dev':\n",
    "            dev_samples.append(inp_example)\n",
    "        elif row['split'] == 'test':\n",
    "            test_samples.append(inp_example)\n",
    "        else:\n",
    "            train_samples.append(inp_example)"
   ]
  },
  {
   "cell_type": "code",
   "execution_count": 8,
   "id": "006fc51a-419b-4f4f-9977-71990bfc05ad",
   "metadata": {},
   "outputs": [],
   "source": [
    "# hack to reduce the number of training examples\n",
    "n = 5\n",
    "train_samples = train_samples[:n]\n",
    "test_samples = test_samples[:n]"
   ]
  },
  {
   "cell_type": "code",
   "execution_count": 9,
   "id": "63105c16-e667-4c5c-8308-f09c2bb5d49b",
   "metadata": {},
   "outputs": [
    {
     "name": "stderr",
     "output_type": "stream",
     "text": [
      "/home/ec2-user/.pyenv/versions/3.9.7/lib/python3.9/site-packages/torch/cuda/__init__.py:628: UserWarning: Can't initialize NVML\n",
      "  warnings.warn(\"Can't initialize NVML\")\n"
     ]
    }
   ],
   "source": [
    "from models import GPTQ\n",
    "\n",
    "gptq = GPTQ(embed_dim=embed_dim,\n",
    "            tgt_vocab=vocab_size,\n",
    "            n_heads=n_heads,\n",
    "            dropout_rate=dropout_rate,\n",
    "            n_tlayers=n_tlayers,\n",
    "            max_seq_len=max_seq_len,\n",
    "            n_qlayers=n_qlayers,\n",
    "            n_qubits=n_qubits,\n",
    "            q_device=q_device,\n",
    "            batch_first=True)\n",
    "pooling_model = models.Pooling(gptq.get_word_embedding_dimension())\n",
    "dense_model = models.Dense(\n",
    "    in_features=pooling_model.get_sentence_embedding_dimension(),\n",
    "    out_features=output_features,\n",
    "    activation_function=torch.nn.Tanh()\n",
    ")\n",
    "\n",
    "model = SentenceTransformer(modules=[gptq, pooling_model, dense_model])"
   ]
  },
  {
   "cell_type": "code",
   "execution_count": 10,
   "id": "3820ed8f-afc0-433a-8e02-4aa102aa1ff9",
   "metadata": {},
   "outputs": [],
   "source": [
    "train_dataloader = DataLoader(train_samples, shuffle=True, batch_size=train_batch_size)\n",
    "train_loss = losses.CosineSimilarityLoss(model=model)\n"
   ]
  },
  {
   "cell_type": "code",
   "execution_count": 11,
   "id": "0a6dced3-7aa4-4ff9-b401-be0fa42e717e",
   "metadata": {},
   "outputs": [],
   "source": [
    "evaluator = EmbeddingSimilarityEvaluator.from_input_examples(dev_samples, name='sts-dev')\n"
   ]
  },
  {
   "cell_type": "code",
   "execution_count": null,
   "id": "003a6e44-a136-48ff-9578-4c2af287f1b5",
   "metadata": {},
   "outputs": [
    {
     "name": "stderr",
     "output_type": "stream",
     "text": [
      "Epoch:   0%|                                                                                                                                                                            | 0/2 [00:00<?, ?it/s]\n",
      "Iteration:   0%|                                                                                                                                                                        | 0/1 [00:00<?, ?it/s]\u001b[A"
     ]
    },
    {
     "name": "stdout",
     "output_type": "stream",
     "text": [
      ">> gptq\n",
      ">> gptq\n",
      ">> gptq\n",
      ">> gptq\n",
      ">> gptq\n",
      ">> gptq\n",
      ">> gptq\n",
      ">> gptq\n",
      ">> gptq\n",
      ">> gptq\n",
      ">> gptq\n",
      ">> gptq\n",
      ">> gptq\n",
      ">> gptq\n",
      ">> gptq\n",
      ">> gptq\n",
      ">> gptq\n",
      ">> gptq\n",
      ">> gptq\n"
     ]
    }
   ],
   "source": [
    "warmup_steps = 1\n",
    "model.fit(train_objectives=[(train_dataloader, train_loss)],\n",
    "          evaluator=evaluator,\n",
    "          epochs=num_epochs,\n",
    "          evaluation_steps=1,\n",
    "          warmup_steps=warmup_steps,\n",
    "          output_path=model_save_path)"
   ]
  },
  {
   "cell_type": "code",
   "execution_count": null,
   "id": "acd71ed2-fb93-4a79-97e9-34fc6dcebde7",
   "metadata": {},
   "outputs": [],
   "source": []
  }
 ],
 "metadata": {
  "kernelspec": {
   "display_name": "Python 3 (ipykernel)",
   "language": "python",
   "name": "python3"
  },
  "language_info": {
   "codemirror_mode": {
    "name": "ipython",
    "version": 3
   },
   "file_extension": ".py",
   "mimetype": "text/x-python",
   "name": "python",
   "nbconvert_exporter": "python",
   "pygments_lexer": "ipython3",
   "version": "3.9.7"
  }
 },
 "nbformat": 4,
 "nbformat_minor": 5
}
